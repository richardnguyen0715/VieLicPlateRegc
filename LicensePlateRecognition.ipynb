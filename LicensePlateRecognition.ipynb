{
 "cells": [
  {
   "cell_type": "code",
   "execution_count": null,
   "metadata": {},
   "outputs": [],
   "source": [
    "import cv2\n",
    "import os\n",
    "from pathlib import Path\n",
    "import glob"
   ]
  },
  {
   "cell_type": "code",
   "execution_count": null,
   "metadata": {},
   "outputs": [],
   "source": [
    "#Plate dir path\n",
    "plateDir_path = r'D:\\My PC Coding Files\\VieLicPlateRegc\\plateset'\n",
    "\n",
    "#Get all image paths\n",
    "image_paths = sorted(glob.glob(os.path.join(plateDir_path, \"*.jpg\")))"
   ]
  },
  {
   "cell_type": "code",
   "execution_count": 51,
   "metadata": {},
   "outputs": [],
   "source": [
    "def imagePreprocessed(image):\n",
    "    gray_image = cv2.cvtColor(image, cv2.COLOR_BGR2GRAY)\n",
    "    # blur = cv2.GaussianBlur(gray_image, (5, 5), 0)  # Reduce noise\n",
    "    _, thresh = cv2.threshold(gray_image, 0, 255, cv2.THRESH_BINARY + cv2.THRESH_OTSU)\n",
    "    return thresh"
   ]
  },
  {
   "cell_type": "code",
   "execution_count": 52,
   "metadata": {},
   "outputs": [],
   "source": [
    "import easyocr\n",
    "\n",
    "def regWithEasyOCR(plate_image):\n",
    "    reader = easyocr.Reader(['en'])\n",
    "    result = reader.readtext(plate_image, detail=0, allowlist=\"0123456789ABCDEFGHIJKLMNOPQRSTUVWXYZ\")\n",
    "    return result"
   ]
  },
  {
   "cell_type": "code",
   "execution_count": 53,
   "metadata": {},
   "outputs": [],
   "source": [
    "import pytesseract\n",
    "\n",
    "def regWithTesserat(plate_image):\n",
    "    custom_config = r'--oem 3 --psm 8 -c tessedit_char_whitelist=0123456789ABCDEFGHIJKLMNOPQRSTUVWXYZ'\n",
    "    result = pytesseract.image_to_string(plate_image, config=custom_config)\n",
    "    return result"
   ]
  },
  {
   "cell_type": "code",
   "execution_count": 54,
   "metadata": {},
   "outputs": [],
   "source": [
    "testPath = 'D:\\\\My PC Coding Files\\\\VieLicPlateRegc\\\\plateset\\\\plate_8_0.jpg'\n",
    "image = cv2.imread(testPath)\n",
    "image = imagePreprocessed(image)"
   ]
  },
  {
   "cell_type": "code",
   "execution_count": 55,
   "metadata": {},
   "outputs": [],
   "source": [
    "#Show plate\n",
    "cv2.imshow(\"test\", image)\n",
    "cv2.waitKey(0) \n",
    "cv2.destroyAllWindows()"
   ]
  },
  {
   "cell_type": "code",
   "execution_count": 56,
   "metadata": {},
   "outputs": [
    {
     "name": "stderr",
     "output_type": "stream",
     "text": [
      "Neither CUDA nor MPS are available - defaulting to CPU. Note: This module is much faster with a GPU.\n"
     ]
    },
    {
     "name": "stdout",
     "output_type": "stream",
     "text": [
      "['PNS2XLL']\n"
     ]
    }
   ],
   "source": [
    "#EasyOCR\n",
    "result_plate = regWithEasyOCR(image)\n",
    "print(result_plate)"
   ]
  },
  {
   "cell_type": "code",
   "execution_count": 57,
   "metadata": {},
   "outputs": [
    {
     "name": "stdout",
     "output_type": "stream",
     "text": [
      "PN52XLL\n",
      "\n"
     ]
    }
   ],
   "source": [
    "#Tesserat\n",
    "result_plate = regWithTesserat(image)\n",
    "print(result_plate)"
   ]
  }
 ],
 "metadata": {
  "kernelspec": {
   "display_name": "env",
   "language": "python",
   "name": "python3"
  },
  "language_info": {
   "codemirror_mode": {
    "name": "ipython",
    "version": 3
   },
   "file_extension": ".py",
   "mimetype": "text/x-python",
   "name": "python",
   "nbconvert_exporter": "python",
   "pygments_lexer": "ipython3",
   "version": "3.12.5"
  }
 },
 "nbformat": 4,
 "nbformat_minor": 2
}
